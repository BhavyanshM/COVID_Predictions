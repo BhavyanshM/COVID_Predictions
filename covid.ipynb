{
 "cells": [
  {
   "cell_type": "code",
   "execution_count": 2,
   "metadata": {},
   "outputs": [],
   "source": [
    "import c3aidatalake\n",
    "from sklearn.preprocessing import LabelEncoder, OneHotEncoder\n",
    "import matplotlib.pyplot as plt\n",
    "import seaborn as sns"
   ]
  },
  {
   "cell_type": "code",
   "execution_count": 3,
   "metadata": {},
   "outputs": [],
   "source": [
    "dataLineList = c3aidatalake.fetch(\n",
    "  \"linelistrecord\",\n",
    "  {\n",
    "      \"spec\" : {\n",
    "          \"filter\" : \"\",\n",
    "          \"limit\" : 1000000\n",
    "      }\n",
    "  }\n",
    ")"
   ]
  },
  {
   "cell_type": "code",
   "execution_count": 4,
   "metadata": {},
   "outputs": [],
   "source": [
    "dataTherapeutic = c3aidatalake.fetch(\n",
    "    \"therapeuticasset\",\n",
    "    {\n",
    "        \"spec\" : {\n",
    "            \"filter\" : \"!contains(clinicalTrialsCovid19, 'NaN')\",\n",
    "            \"limit\" : 100000\n",
    "        }\n",
    "    }\n",
    ")"
   ]
  },
  {
   "cell_type": "code",
   "execution_count": 13,
   "metadata": {},
   "outputs": [],
   "source": [
    "dataClinicalTrial = c3aidatalake.fetch(\n",
    "    \"clinicaltrial\",\n",
    "    {\n",
    "        \"spec\" : {\n",
    "            \"filter\" : \"\",\n",
    "            \"limit\" : 100000\n",
    "        }\n",
    "    }\n",
    ")\n"
   ]
  },
  {
   "cell_type": "code",
   "execution_count": 20,
   "metadata": {},
   "outputs": [
    {
     "name": "stdout",
     "output_type": "stream",
     "text": [
      "locationType\n",
      "gender\n",
      "caseConfirmationDate\n",
      "livesInGroundZero\n",
      "traveledToGroundZero\n",
      "relevantTravelHistoryLocation\n",
      "relevantTravelHistoryDates\n",
      "notes\n",
      "outcome\n",
      "didDie\n",
      "didRecover\n",
      "recordSource\n",
      "lineListSource\n",
      "hasTravelHistory\n",
      "id\n",
      "location.id\n",
      "age\n",
      "outcomeDate\n",
      "symptomStartDate\n",
      "hospitalAdmissionDate\n",
      "symptoms\n",
      "ageRange\n",
      "groundZeroExposure\n",
      "chronicDisease\n",
      "sequenceAvailable\n",
      "25\n"
     ]
    }
   ],
   "source": [
    "for col in dataLineList.columns.tolist():\n",
    "    print(col)\n",
    "print(len(dataLineList.columns.tolist()))\n"
   ]
  },
  {
   "cell_type": "code",
   "execution_count": 10,
   "metadata": {},
   "outputs": [],
   "source": [
    "\n",
    "symptom_df = dataLineList.copy()\n",
    "symptom_df[\"symptoms\"] = symptom_df[\"outcome\"].str.split(\", \")\n",
    "symptom_df = symptom_df.explode(\"symptoms\")\n",
    "\n",
    "symptom_df = symptom_df.dropna(subset = [\"outcome\"])\n",
    "symptom_freq = symptom_df.groupby([\"symptoms\"]).agg(\"count\")[[\"id\"]].sort_values(\"id\")\n",
    "\n"
   ]
  },
  {
   "cell_type": "code",
   "execution_count": 12,
   "metadata": {},
   "outputs": [
    {
     "data": {
      "image/png": "[encoded data removed]",
      "text/plain": [
       "<Figure size 720x432 with 1 Axes>"
      ]
     },
     "metadata": {
      "needs_background": "light"
     },
     "output_type": "display_data"
    }
   ],
   "source": [
    "# Plot the data\n",
    "plt.figure(figsize = (10, 6))\n",
    "plt.bar(symptom_freq.index, symptom_freq[\"id\"])\n",
    "plt.xticks(rotation = 90)\n",
    "plt.xlabel(\"Outcome\")\n",
    "plt.ylabel(\"Number of patients\")\n",
    "plt.title(\"Common COVID-19 outcomes\")\n",
    "plt.show()"
   ]
  },
  {
   "cell_type": "code",
   "execution_count": null,
   "metadata": {},
   "outputs": [],
   "source": []
  }
 ],
 "metadata": {
  "kernelspec": {
   "display_name": "Python 3",
   "language": "python",
   "name": "python3"
  },
  "language_info": {
   "codemirror_mode": {
    "name": "ipython",
    "version": 3
   },
   "file_extension": ".py",
   "mimetype": "text/x-python",
   "name": "python",
   "nbconvert_exporter": "python",
   "pygments_lexer": "ipython3",
   "version": "3.8.5"
  }
 },
 "nbformat": 4,
 "nbformat_minor": 4
}
